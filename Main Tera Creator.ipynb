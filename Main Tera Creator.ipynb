{
 "cells": [
  {
   "cell_type": "code",
   "execution_count": 14,
   "metadata": {},
   "outputs": [
    {
     "name": "stderr",
     "output_type": "stream",
     "text": [
      "chunk:   4%|▍         | 28/657 [00:00<00:02, 256.50it/s, now=None]"
     ]
    },
    {
     "name": "stdout",
     "output_type": "stream",
     "text": [
      "Moviepy - Building video C:/Users/user/Desktop/Main-Tera-Creator/Main_Tera.mp4.\n",
      "MoviePy - Writing audio in Main_TeraTEMP_MPY_wvf_snd.mp3\n"
     ]
    },
    {
     "name": "stderr",
     "output_type": "stream",
     "text": [
      "t:  15%|█▌        | 4/26 [00:00<00:00, 35.87it/s, now=None]        "
     ]
    },
    {
     "name": "stdout",
     "output_type": "stream",
     "text": [
      "MoviePy - Done.\n",
      "Moviepy - Writing video C:/Users/user/Desktop/Main-Tera-Creator/Main_Tera.mp4\n",
      "\n"
     ]
    },
    {
     "name": "stderr",
     "output_type": "stream",
     "text": [
      "                                                            \r"
     ]
    },
    {
     "name": "stdout",
     "output_type": "stream",
     "text": [
      "Moviepy - Done !\n",
      "Moviepy - video ready C:/Users/user/Desktop/Main-Tera-Creator/Main_Tera.mp4\n",
      "Code ran successfully! Check the output path for the video.\n"
     ]
    }
   ],
   "source": [
    "import cv2\n",
    "import os\n",
    "import moviepy.editor as mpe\n",
    "\n",
    "def main_tera_generator(input_path, output_path, frames_per_sec, time):\n",
    "    \n",
    "    files = []\n",
    "    frame_array = []\n",
    "    \n",
    "    for img in os.listdir(input_path):\n",
    "        image_path = os.path.join(input_path,img)\n",
    "        files.append(image_path)\n",
    "    \n",
    "    for i in range(len(files)):\n",
    "        image = cv2.imread(files[i])\n",
    "        resize_to = (1500,1000)\n",
    "        resized_image = cv2.resize(image, resize_to)\n",
    "        \n",
    "        for j in range(time):\n",
    "            frame_array.append(resized_image)\n",
    "    \n",
    "    out = cv2.VideoWriter(output_path, cv2.VideoWriter_fourcc(*'mp4v'), frames_per_sec, resize_to)\n",
    "    \n",
    "    for i in range(len(frame_array)):\n",
    "        out.write(frame_array[i])\n",
    "    \n",
    "    out.release()\n",
    "    \n",
    "    clip = mpe.VideoFileClip('C:/Users/user/Desktop/Main-Tera-Creator/Main_Tera.avi')\n",
    "    song_audio = mpe.AudioFileClip('C:/Users/user/Desktop/Main-Tera-Creator/trimmed_audio.mp3')\n",
    "    final_clip = clip.set_audio(song_audio)\n",
    "    final_clip.write_videofile('C:/Users/user/Desktop/Main-Tera-Creator/Main_Tera.mp4')\n",
    "    print(\"Code ran successfully! Check the output path for the video.\")\n",
    "\n",
    "\n",
    "input_path = 'C:/Users/user/Desktop/Main-Tera-Creator/Images/'\n",
    "output_path = 'C:/Users/user/Desktop/Main-Tera-Creator/' + 'Main_Tera.avi'\n",
    "frames_per_sec = 1\n",
    "time = 1\n",
    "main_tera_generator(input_path, output_path, frames_per_sec, time)"
   ]
  },
  {
   "cell_type": "code",
   "execution_count": null,
   "metadata": {},
   "outputs": [],
   "source": []
  }
 ],
 "metadata": {
  "kernelspec": {
   "display_name": "Python 3",
   "language": "python",
   "name": "python3"
  },
  "language_info": {
   "codemirror_mode": {
    "name": "ipython",
    "version": 3
   },
   "file_extension": ".py",
   "mimetype": "text/x-python",
   "name": "python",
   "nbconvert_exporter": "python",
   "pygments_lexer": "ipython3",
   "version": "3.7.6"
  }
 },
 "nbformat": 4,
 "nbformat_minor": 4
}
